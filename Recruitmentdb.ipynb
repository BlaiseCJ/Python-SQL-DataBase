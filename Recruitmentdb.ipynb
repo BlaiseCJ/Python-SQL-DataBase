{
 "cells": [
  {
   "cell_type": "code",
   "execution_count": 34,
   "id": "c9098b38",
   "metadata": {},
   "outputs": [
    {
     "name": "stdout",
     "output_type": "stream",
     "text": [
      "                                Name                    Rank Department\n",
      "Badge_Number                                                           \n",
      "PR0001                  Dr Max Lloyd         Chief Inspector     Marine\n",
      "PR0002        Danielle Barlow-Briggs               Inspector    Traffic\n",
      "PR0003                      Ann King  Deputy Chief Constable    Traffic\n",
      "PR0004                     Ann White               Inspector     Marine\n",
      "PR0005                 Derek Russell               Commander         K9\n",
      "                                Name         DOB Qualification  Salary\n",
      "Badge_Number                                                          \n",
      "PR0001                  Dr Max Lloyd  1970-09-19       O-Level   10030\n",
      "PR0002        Danielle Barlow-Briggs  1993-07-03        Others   20214\n",
      "PR0003                      Ann King  1994-07-12       O-Level   17396\n",
      "PR0004                     Ann White  1981-08-07        Degree   16649\n",
      "PR0005                 Derek Russell  1984-07-02        Degree   35115\n",
      "                Race      Religion Sex_Orientation\n",
      "Badge_Number                                      \n",
      "PR0001        Others  Christianity      Homosexual\n",
      "PR0002        Indian  Christianity    Heterosexual\n",
      "PR0003         White       Judaism      Omnisexual\n",
      "PR0004        Indian  Christianity       Won't say\n",
      "PR0005        Others         Islam        Bisexual\n"
     ]
    },
    {
     "data": {
      "text/plain": [
       "'\\nimport numpy as np\\nimport pandas as pd\\nimport random\\nimport string \\n\\n'"
      ]
     },
     "execution_count": 34,
     "metadata": {},
     "output_type": "execute_result"
    }
   ],
   "source": [
    " ead()"
   ]
  },
  {
   "cell_type": "code",
   "execution_count": 20,
   "id": "1aac24cb",
   "metadata": {},
   "outputs": [],
   "source": [
    "    # Number of rows\n",
    "n = 1000\n",
    "\n",
    "# Candidate Number: This is a nominal data. \n",
    "candidate_no = [f'PR{str(i).zfill(2)}' for i in range(1, 12)]\n",
    "candidate_data = np.random.choice(candidate_no, n)\n"
   ]
  },
  {
   "cell_type": "code",
   "execution_count": 5,
   "id": "63d40b11",
   "metadata": {},
   "outputs": [],
   "source": [
    "# Highest academic qualification: This is ordinal data\n",
    "qualification = ['FSLC','O-Level', 'Degree', 'Masters', 'PhD', 'Others']\n",
    "qualification_data = np.random.choice(qualification, n, p=[0.1, 0.2, 0.3, 0.2, 0.1, 0.1])"
   ]
  },
  {
   "cell_type": "code",
   "execution_count": 19,
   "id": "b6cdb366",
   "metadata": {},
   "outputs": [],
   "source": [
    "# Date of birth (dob): This is interval data\n",
    "birth_year = np.random.randint(1970, 2000, n)\n",
    "birth_month = np.random.randint(1, 13, n)\n",
    "birth_day = np.random.randint(1, 28, n)\n",
    "dob = [f'{birth_year[i]}-{str(birth_month[i]).zfill(2)}-'\n",
    "                     f'{str(birth_day[i]).zfill(2)}' for i in range(n)]"
   ]
  },
  {
   "cell_type": "code",
   "execution_count": 7,
   "id": "5db1a590",
   "metadata": {},
   "outputs": [],
   "source": [
    "# Gratuity upon retirement: Ratio Data\n",
    "gratuity = np.random.lognormal(mean=10, sigma=0.5, size=n).astype(int)"
   ]
  },
  {
   "cell_type": "code",
   "execution_count": 11,
   "id": "3f622042",
   "metadata": {},
   "outputs": [
    {
     "name": "stdout",
     "output_type": "stream",
     "text": [
      "Requirement already satisfied: Faker in c:\\users\\blaise ezeokeke\\anaconda3\\lib\\site-packages (20.0.0)\n",
      "Requirement already satisfied: python-dateutil>=2.4 in c:\\users\\blaise ezeokeke\\anaconda3\\lib\\site-packages (from Faker) (2.8.2)\n",
      "Requirement already satisfied: six>=1.5 in c:\\users\\blaise ezeokeke\\anaconda3\\lib\\site-packages (from python-dateutil>=2.4->Faker) (1.16.0)\n"
     ]
    }
   ],
   "source": [
    "!pip install Faker\n",
    "\n",
    "from faker import Faker\n",
    "# Initializing Faker to create random data\n",
    "\n",
    "fake = Faker()\n",
    "\n",
    "# Generate reasonable random names for 1000 people\n",
    "def random_names(n):\n",
    "    # Returns a list of n random names\n",
    "    return [fake.name() for _ in range(n)]\n",
    "\n",
    "# Generate random names for 1000 persons\n",
    "names = random_names(1000)\n"
   ]
  },
  {
   "cell_type": "code",
   "execution_count": 22,
   "id": "80cb7e99",
   "metadata": {},
   "outputs": [],
   "source": [
    "# Generate Personnel ranks\n",
    "def random_rank():\n",
    "    ranks = ['Inspector', 'Chief Inspector', 'Superintendent', 'Commander', 'Deputy Chief Constable', 'Chief Constable']\n",
    "    return random.choice(ranks)\n"
   ]
  },
  {
   "cell_type": "code",
   "execution_count": 14,
   "id": "6e12102f",
   "metadata": {},
   "outputs": [],
   "source": [
    "# Generate Personnel department\n",
    "def random_department():\n",
    "    department = ['Homicide', 'Narcotics', 'Cybercrime', 'Traffic', 'K9', 'Marine']\n",
    "    return random.choice(department)\n"
   ]
  },
  {
   "cell_type": "code",
   "execution_count": 15,
   "id": "a6a85159",
   "metadata": {},
   "outputs": [],
   "source": [
    "# Generate Personnel racial background\n",
    "def random_race():\n",
    "    race = ['Asian', 'Indian', 'Black', 'Mixed', 'White', 'Others']\n",
    "    return random.choice(race)"
   ]
  },
  {
   "cell_type": "code",
   "execution_count": 16,
   "id": "60644c03",
   "metadata": {},
   "outputs": [],
   "source": [
    "# Generate Personnel religion\n",
    "def random_religion():\n",
    "    religion = ['Christianity', 'Islam', 'Buddhism', 'Judaism', 'Non-Religious', 'Others']\n",
    "    return random.choice(religion)"
   ]
  },
  {
   "cell_type": "code",
   "execution_count": 23,
   "id": "3bdac4bb",
   "metadata": {},
   "outputs": [
    {
     "ename": "NameError",
     "evalue": "name 'ranks' is not defined",
     "output_type": "error",
     "traceback": [
      "\u001b[1;31m---------------------------------------------------------------------------\u001b[0m",
      "\u001b[1;31mNameError\u001b[0m                                 Traceback (most recent call last)",
      "\u001b[1;32m~\\AppData\\Local\\Temp\\ipykernel_5436\\3165302053.py\u001b[0m in \u001b[0;36m<module>\u001b[1;34m\u001b[0m\n\u001b[0;32m      4\u001b[0m     \u001b[1;34m'Badge_Number'\u001b[0m\u001b[1;33m:\u001b[0m \u001b[0mcandidate_no\u001b[0m\u001b[1;33m,\u001b[0m\u001b[1;33m\u001b[0m\u001b[1;33m\u001b[0m\u001b[0m\n\u001b[0;32m      5\u001b[0m     \u001b[1;34m'Name'\u001b[0m\u001b[1;33m:\u001b[0m \u001b[0mnames\u001b[0m\u001b[1;33m,\u001b[0m\u001b[1;33m\u001b[0m\u001b[1;33m\u001b[0m\u001b[0m\n\u001b[1;32m----> 6\u001b[1;33m     \u001b[1;34m'Rank'\u001b[0m\u001b[1;33m:\u001b[0m \u001b[0mranks\u001b[0m\u001b[1;33m,\u001b[0m\u001b[1;33m\u001b[0m\u001b[1;33m\u001b[0m\u001b[0m\n\u001b[0m\u001b[0;32m      7\u001b[0m     \u001b[1;34m'Department'\u001b[0m\u001b[1;33m:\u001b[0m \u001b[0mdepartment\u001b[0m\u001b[1;33m\u001b[0m\u001b[1;33m\u001b[0m\u001b[0m\n\u001b[0;32m      8\u001b[0m })\n",
      "\u001b[1;31mNameError\u001b[0m: name 'ranks' is not defined"
     ]
    }
   ],
   "source": [
    "#Create the DataFrames that will form the tables\n",
    "\n",
    "officerInformation = pd.DataFrame({\n",
    "    'Badge_Number': candidate_no,\n",
    "    'Name': names,\n",
    "    'Rank': ranks,\n",
    "    'Department': department\n",
    "})\n",
    "print(officerInformation.head())"
   ]
  },
  {
   "cell_type": "code",
   "execution_count": null,
   "id": "0704b0c0",
   "metadata": {},
   "outputs": [],
   "source": []
  }
 ],
 "metadata": {
  "kernelspec": {
   "display_name": "Python 3 (ipykernel)",
   "language": "python",
   "name": "python3"
  },
  "language_info": {
   "codemirror_mode": {
    "name": "ipython",
    "version": 3
   },
   "file_extension": ".py",
   "mimetype": "text/x-python",
   "name": "python",
   "nbconvert_exporter": "python",
   "pygments_lexer": "ipython3",
   "version": "3.9.13"
  }
 },
 "nbformat": 4,
 "nbformat_minor": 5
}
